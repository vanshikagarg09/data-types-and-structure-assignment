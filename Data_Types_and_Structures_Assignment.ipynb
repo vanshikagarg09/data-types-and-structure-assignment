{
  "nbformat": 4,
  "nbformat_minor": 0,
  "metadata": {
    "colab": {
      "provenance": []
    },
    "kernelspec": {
      "name": "python3",
      "display_name": "Python 3"
    },
    "language_info": {
      "name": "python"
    }
  },
  "cells": [
    {
      "cell_type": "markdown",
      "source": [
        "                           Data Types and Structures Questions"
      ],
      "metadata": {
        "id": "N8qtAi8lM5er"
      }
    },
    {
      "cell_type": "markdown",
      "source": [
        "1. What are data structures, and why are they important?\n",
        ">> data structure means organising and storing data in a computer to be used efficiently.      \n",
        "they are important for various reasons like for efficiency,problem solving,scalabiltity,foundation of algorathms and code reusability."
      ],
      "metadata": {
        "id": "UPjUO2jnCyiy"
      }
    },
    {
      "cell_type": "markdown",
      "source": [
        "2.  Explain the difference between mutable and immutable data types with examples?\n",
        ">> mutable datatypes have their  values that can be changed after created. list,sets and dictionaries are  the example of mutable data type. while immutable data typed can not be modified once they are created examples are tuples,strings,floats and so on...."
      ],
      "metadata": {
        "id": "bhHOQpb8CyfR"
      }
    },
    {
      "cell_type": "markdown",
      "source": [
        "3. What are the main differences between lists and tuples in Python?\n",
        ">> list are mutable datatypes while tuples are immutable that cannot be changed."
      ],
      "metadata": {
        "id": "De2StSXACyc-"
      }
    },
    {
      "cell_type": "markdown",
      "source": [
        "4. Describe how dictionaries store data?\n",
        ">> dictionaries are used to store values in key:value pairs.\n",
        "example=> student={\"name\":\"vanshika\",\"course\":\"data_analyst\"}"
      ],
      "metadata": {
        "id": "6KUcnI45CyaG"
      }
    },
    {
      "cell_type": "markdown",
      "source": [
        "5. Why might you use a set instead of a list in Python?\n",
        ">> Lists and sets are similar, but in a list, if we store duplicate values, it can consume more memory. In contrast, sets automatically eliminate duplicates, which can help save memory."
      ],
      "metadata": {
        "id": "efjnVynwCyXX"
      }
    },
    {
      "cell_type": "markdown",
      "source": [
        "6.  What is a string in Python, and how is it different from a list?\n",
        ">> string is a sequence of characters,letters ,numbers,symbols enclosed in quotes they are immutable while list contain items of mixed types that are mutable.         \n",
        "\n"
      ],
      "metadata": {
        "id": "5wTSS9ffCyUk"
      }
    },
    {
      "cell_type": "markdown",
      "source": [
        "7. How do tuples ensure data integrity in Python?\n",
        ">> tuples are immutable that prevents any intentional or accidental changes that keeps data secure and maintains data integrity."
      ],
      "metadata": {
        "id": "C4qPQxrNCyR2"
      }
    },
    {
      "cell_type": "markdown",
      "source": [
        "8. What is a hash table, and how does it relate to dictionaries in Python?\n",
        ">> harsh table is a way to store data so that you can quickly find values using keys. In dictionary we use harsh table to access,remove and add items quickly by their keys.  "
      ],
      "metadata": {
        "id": "1qk8rcDFCyOj"
      }
    },
    {
      "cell_type": "markdown",
      "source": [
        "9. Can lists contain different data types in Python?\n",
        ">> list can contain different data types that can be characters,letters,numbers,symbols that can be changed after creation"
      ],
      "metadata": {
        "id": "_EX7fvl1CyMC"
      }
    },
    {
      "cell_type": "markdown",
      "source": [
        "10. Explain why strings are immutable in Python\n",
        ">> strings are immutable because it makes them efficient,and easier to manage.  "
      ],
      "metadata": {
        "id": "GCJWOflMCyJJ"
      }
    },
    {
      "cell_type": "markdown",
      "source": [
        "11. What advantages do dictionaries offer over lists for certain tasks?\n",
        ">>  dictionaries lets you access quick values using keys making it more efficient and faster than list"
      ],
      "metadata": {
        "id": "ZDKyBvbuCyGb"
      }
    },
    {
      "cell_type": "markdown",
      "source": [
        "12. Describe a scenario where using a tuple would be preferable over a list ?\n",
        ">> if you want to store an unchangable amd fixed data that shouldn't be modified in this case tuple is more preferable than list"
      ],
      "metadata": {
        "id": "aoZ-4Qs2CyDi"
      }
    },
    {
      "cell_type": "markdown",
      "source": [
        "13.  How do sets handle duplicate values in Python?\n",
        ">>  in python sets automatically remove duplicate values and they only store unique elements.if you add duplicates then sets just keeps one copy and ignore the rest."
      ],
      "metadata": {
        "id": "VWCSxFcxCyAw"
      }
    },
    {
      "cell_type": "markdown",
      "source": [
        "14.  How does the “in” keyword work differently for lists and dictionaries?\n",
        ">>   for list \"in\" keyword checks if the value exist in a list while for dictionary \"in\" keyword checks the key not a value."
      ],
      "metadata": {
        "id": "8waljcA2Cx-M"
      }
    },
    {
      "cell_type": "markdown",
      "source": [
        "15. Can you modify the elements of a tuple? Explain why or why not?\n",
        ">>  no, we can not modify the elements in tuples as because they are immutable and we only use tuples if we want to store an unchangable data."
      ],
      "metadata": {
        "id": "szTBQOowCx7a"
      }
    },
    {
      "cell_type": "markdown",
      "source": [
        "16. What is a nested dictionary, and give an example of its use case?\n",
        ">>   nested dictionaries is a dictionary where values themselves are dictionaries.          \n",
        "student={\"name\":\"vanshika\",\"age\":20,\"grades\":{\"maths\":80,\"python\":100:\"english\":90}}"
      ],
      "metadata": {
        "id": "qRMt29zOCx4v"
      }
    },
    {
      "cell_type": "markdown",
      "source": [
        "17. Describe the time complexity of accessing elements in a dictionary?\n",
        ">>  accessing elements in dictionaries is quick takes same time no matter how big dictionary is called 0(1)time. because it uses a special system called harsh table."
      ],
      "metadata": {
        "id": "U91nvrfsCx1k"
      }
    },
    {
      "cell_type": "markdown",
      "source": [
        "18. In what situations are lists preferred over dictionaries?\n",
        ">>   lists are more preferable than dictionaries when you want to access elements by their position but not with their key values."
      ],
      "metadata": {
        "id": "c6Y0t-5ACxyr"
      }
    },
    {
      "cell_type": "markdown",
      "source": [
        "19. Why are dictionaries considered unordered, and how does that affect data retrieval?\n",
        ">>  dictionaries considered unordered because their items don't have fixed order but you can retrieve values by using keys"
      ],
      "metadata": {
        "id": "2DogOMM-CxwC"
      }
    },
    {
      "cell_type": "markdown",
      "source": [
        "20. Explain the difference between a list and a dictionary in terms of data retrieval?\n",
        ">>   in list you can retrieve data by index numbers and in dictionary you can retrieve by using unique keys."
      ],
      "metadata": {
        "id": "jsTWQK1YCxtO"
      }
    },
    {
      "cell_type": "markdown",
      "source": [
        "                                                       PRACTICAL QUESTIONS"
      ],
      "metadata": {
        "id": "sJMHCwpZMpvv"
      }
    },
    {
      "cell_type": "code",
      "source": [
        "#Write a code to create a string with your name and print it.\n",
        "name=('vanshika')\n",
        "print(name)"
      ],
      "metadata": {
        "colab": {
          "base_uri": "https://localhost:8080/"
        },
        "id": "bvlgynNCMxTI",
        "outputId": "380c6370-2335-44fe-d4be-61cf58476b91"
      },
      "execution_count": null,
      "outputs": [
        {
          "output_type": "stream",
          "name": "stdout",
          "text": [
            "vanshika\n"
          ]
        }
      ]
    },
    {
      "cell_type": "code",
      "source": [
        "#Write a code to find the length of the string \"Hello World\".\n",
        "string=\"hello world\"\n",
        "len(string)\n"
      ],
      "metadata": {
        "colab": {
          "base_uri": "https://localhost:8080/"
        },
        "id": "fqdHScljM0Q4",
        "outputId": "db571e63-48cf-45c8-c617-b2c41114c0af"
      },
      "execution_count": null,
      "outputs": [
        {
          "output_type": "execute_result",
          "data": {
            "text/plain": [
              "11"
            ]
          },
          "metadata": {},
          "execution_count": 15
        }
      ]
    },
    {
      "cell_type": "code",
      "source": [
        "#Write a code to slice the first 3 characters from the string \"Python Programming\"\n",
        "string=\"python programming\"\n",
        "sliced_string=string[:3]\n",
        "print(sliced_string)"
      ],
      "metadata": {
        "colab": {
          "base_uri": "https://localhost:8080/"
        },
        "id": "NwRY1MRXM0OL",
        "outputId": "2f2bba69-2e02-4224-d2c7-d1bb6d231523"
      },
      "execution_count": null,
      "outputs": [
        {
          "output_type": "stream",
          "name": "stdout",
          "text": [
            "pyt\n"
          ]
        }
      ]
    },
    {
      "cell_type": "code",
      "source": [
        "#Write a code to convert the string \"hello\" to uppercase?\n",
        "string=\"hello\"\n",
        "uppercase_string=string.upper()\n",
        "print(uppercase_string)"
      ],
      "metadata": {
        "colab": {
          "base_uri": "https://localhost:8080/"
        },
        "id": "4wf19IINM0MZ",
        "outputId": "bd2754ba-9fd0-4703-ca1f-bca68de49e0a"
      },
      "execution_count": null,
      "outputs": [
        {
          "output_type": "stream",
          "name": "stdout",
          "text": [
            "HELLO\n"
          ]
        }
      ]
    },
    {
      "cell_type": "code",
      "source": [
        "#Write a code to replace the word \"apple\" with \"orange\" in the string \"I like apple\".\n",
        "string0=\"i like apple\"\n",
        "string1= string0.replace(\"apple\",\"orange\")\n",
        "print(string1)"
      ],
      "metadata": {
        "colab": {
          "base_uri": "https://localhost:8080/"
        },
        "id": "LDvS9jQ8M0Ie",
        "outputId": "2698c528-d224-4138-96b5-b755581289a6"
      },
      "execution_count": null,
      "outputs": [
        {
          "output_type": "stream",
          "name": "stdout",
          "text": [
            "i like orange\n"
          ]
        }
      ]
    },
    {
      "cell_type": "code",
      "source": [
        "#Write a code to create a list with numbers 1 to 5 and print it.\n",
        "list=[1,2,3,4,5]\n",
        "print(list)"
      ],
      "metadata": {
        "colab": {
          "base_uri": "https://localhost:8080/"
        },
        "id": "GRQKTAIsM0Fx",
        "outputId": "11ba19d5-5989-4f38-e0b3-8135f8a8fec8"
      },
      "execution_count": null,
      "outputs": [
        {
          "output_type": "stream",
          "name": "stdout",
          "text": [
            "[1, 2, 3, 4, 5]\n"
          ]
        }
      ]
    },
    {
      "cell_type": "code",
      "source": [
        "#Write a code to append the number 10 to the list [1, 2, 3, 4]\n",
        "nums= [1,2,3,4,]\n",
        "nums.append(10)\n",
        "print(nums)"
      ],
      "metadata": {
        "colab": {
          "base_uri": "https://localhost:8080/"
        },
        "id": "4TGIBdfYM0DE",
        "outputId": "a1ec7e38-0f13-4675-dd9c-d4761f33def0"
      },
      "execution_count": null,
      "outputs": [
        {
          "output_type": "stream",
          "name": "stdout",
          "text": [
            "[1, 2, 3, 4, 10]\n"
          ]
        }
      ]
    },
    {
      "cell_type": "code",
      "source": [
        "#Write a code to remove the number 3 from the list [1, 2, 3, 4, 5]\n",
        "nums=[1,2,3,4,5]\n",
        "nums.remove(3)\n",
        "print(nums)"
      ],
      "metadata": {
        "colab": {
          "base_uri": "https://localhost:8080/"
        },
        "id": "XE97vXhRM0AZ",
        "outputId": "480cbb80-96a2-4ecd-a455-e92d2318414d"
      },
      "execution_count": null,
      "outputs": [
        {
          "output_type": "stream",
          "name": "stdout",
          "text": [
            "[1, 2, 4, 5]\n"
          ]
        }
      ]
    },
    {
      "cell_type": "code",
      "source": [
        "#Write a code to access the second element in the list ['a', 'b', 'c', 'd']\n",
        "letters=['a','b','c','d']\n",
        "letters[2]\n"
      ],
      "metadata": {
        "colab": {
          "base_uri": "https://localhost:8080/",
          "height": 35
        },
        "id": "Cytg5RCUMz93",
        "outputId": "1992facd-5c8a-46b9-a0a8-7e42084b8838"
      },
      "execution_count": null,
      "outputs": [
        {
          "output_type": "execute_result",
          "data": {
            "text/plain": [
              "'c'"
            ],
            "application/vnd.google.colaboratory.intrinsic+json": {
              "type": "string"
            }
          },
          "metadata": {},
          "execution_count": 35
        }
      ]
    },
    {
      "cell_type": "code",
      "source": [
        "#Write a code to reverse the list [10, 20, 30, 40, 50]\n",
        "nums=[10,20,30,40,50]\n",
        "nums.reverse()\n",
        "print(nums)\n"
      ],
      "metadata": {
        "colab": {
          "base_uri": "https://localhost:8080/"
        },
        "id": "XsyzzBZwMz7S",
        "outputId": "63f1e922-a8ad-4d2a-8f5e-3995e161ec46"
      },
      "execution_count": null,
      "outputs": [
        {
          "output_type": "stream",
          "name": "stdout",
          "text": [
            "[50, 40, 30, 20, 10]\n"
          ]
        }
      ]
    },
    {
      "cell_type": "code",
      "source": [
        "# Write a code to create a tuple with the elements 100, 200, 300 and print it.\n",
        "values=(100,200,300)\n",
        "print(values)\n"
      ],
      "metadata": {
        "colab": {
          "base_uri": "https://localhost:8080/"
        },
        "id": "c_nJoUjsMz4f",
        "outputId": "731c52e6-665c-4c23-d801-be59beb2d29c"
      },
      "execution_count": null,
      "outputs": [
        {
          "output_type": "stream",
          "name": "stdout",
          "text": [
            "(100, 200, 300)\n"
          ]
        }
      ]
    },
    {
      "cell_type": "code",
      "source": [
        "#Write a code to access the second-to-last element of the tuple ('red', 'green', 'blue', 'yellow')\n",
        "colors=(\"red\",\"green\",\"blue\",\"yellow\")\n",
        "colors_elements = colors[2:]\n",
        "print(colors_elements)"
      ],
      "metadata": {
        "colab": {
          "base_uri": "https://localhost:8080/"
        },
        "id": "yCOVZwS4Mz2F",
        "outputId": "2e18bd15-d12a-48c6-8c37-e265b31d997c"
      },
      "execution_count": null,
      "outputs": [
        {
          "output_type": "stream",
          "name": "stdout",
          "text": [
            "('blue', 'yellow')\n"
          ]
        }
      ]
    },
    {
      "cell_type": "code",
      "source": [
        "#Write a code to find the minimum number in the tuple (10, 20, 5, 15)\n",
        "nums=(10,20,5,15)\n",
        "min(nums)"
      ],
      "metadata": {
        "colab": {
          "base_uri": "https://localhost:8080/"
        },
        "id": "e2cRWZ0FMzyq",
        "outputId": "656c1ee9-294e-4cae-c84a-e9c85d10c568"
      },
      "execution_count": null,
      "outputs": [
        {
          "output_type": "execute_result",
          "data": {
            "text/plain": [
              "5"
            ]
          },
          "metadata": {},
          "execution_count": 41
        }
      ]
    },
    {
      "cell_type": "code",
      "source": [
        "#Write a code to find the index of the element \"cat\" in the tuple ('dog', 'cat', 'rabbit')\n",
        "animals=(\"dog\",\"cat\",\"rabbit\")\n",
        "animals.index(\"cat\")\n",
        "\n"
      ],
      "metadata": {
        "colab": {
          "base_uri": "https://localhost:8080/"
        },
        "id": "ptIs-g83MzwA",
        "outputId": "bf7bcfe1-ce79-4869-a282-2c18fd8e446a"
      },
      "execution_count": null,
      "outputs": [
        {
          "output_type": "execute_result",
          "data": {
            "text/plain": [
              "1"
            ]
          },
          "metadata": {},
          "execution_count": 45
        }
      ]
    },
    {
      "cell_type": "code",
      "source": [
        "#Write a code to create a tuple containing three different fruits and check if \"kiwi\" is in it\n",
        "fruits=(\"apple\",\"kiwi\",\"orange\")\n",
        "\"kiwi\" in fruits"
      ],
      "metadata": {
        "colab": {
          "base_uri": "https://localhost:8080/"
        },
        "id": "6bI6q5poMzta",
        "outputId": "8bbcb5fd-1567-44b7-9a26-ac8a58bb53f9"
      },
      "execution_count": null,
      "outputs": [
        {
          "output_type": "execute_result",
          "data": {
            "text/plain": [
              "True"
            ]
          },
          "metadata": {},
          "execution_count": 75
        }
      ]
    },
    {
      "cell_type": "code",
      "source": [
        "#Write a code to create a set with the elements 'a', 'b', 'c' and print it\n",
        "letters={\"a\",\"b\",\"c\"}\n",
        "print(letters)"
      ],
      "metadata": {
        "colab": {
          "base_uri": "https://localhost:8080/"
        },
        "id": "Mbr8AaQNMzqr",
        "outputId": "6d4f90b6-9611-4973-f6e4-78b452daacd3"
      },
      "execution_count": null,
      "outputs": [
        {
          "output_type": "stream",
          "name": "stdout",
          "text": [
            "{'a', 'c', 'b'}\n"
          ]
        }
      ]
    },
    {
      "cell_type": "code",
      "source": [
        "#Write a code to clear all elements from the set {1, 2, 3, 4, 5}\n",
        "set = {1,2,3,4,5}\n",
        "set.clear()\n",
        "print(set)\n"
      ],
      "metadata": {
        "colab": {
          "base_uri": "https://localhost:8080/"
        },
        "id": "rJPXxNoaMzoU",
        "outputId": "76e928ef-61e4-4390-8e62-c6cddc34b56e"
      },
      "execution_count": null,
      "outputs": [
        {
          "output_type": "stream",
          "name": "stdout",
          "text": [
            "set()\n"
          ]
        }
      ]
    },
    {
      "cell_type": "markdown",
      "source": [],
      "metadata": {
        "id": "mNtIZhlhaWQj"
      }
    },
    {
      "cell_type": "code",
      "source": [
        "#Write a code to remove the element 4 from the set {1, 2, 3, 4}\n",
        "set1= {1,2,3,4}\n",
        "set1.remove(4)\n",
        "print(set1)"
      ],
      "metadata": {
        "colab": {
          "base_uri": "https://localhost:8080/"
        },
        "id": "7i1450VlMzl-",
        "outputId": "3f367607-3678-472a-8a55-a754396da599"
      },
      "execution_count": null,
      "outputs": [
        {
          "output_type": "stream",
          "name": "stdout",
          "text": [
            "{1, 2, 3}\n"
          ]
        }
      ]
    },
    {
      "cell_type": "code",
      "source": [
        "#Write a code to find the union of two sets {1, 2, 3} and {3, 4, 5}\n",
        "set1={1,2,3}\n",
        "set2={3,4,5}\n",
        "set1.union(set2)"
      ],
      "metadata": {
        "colab": {
          "base_uri": "https://localhost:8080/"
        },
        "id": "9dYGcoPZMzjY",
        "outputId": "1b52d4d7-0d09-4d91-bc8e-9eaa7b3b0afb"
      },
      "execution_count": null,
      "outputs": [
        {
          "output_type": "execute_result",
          "data": {
            "text/plain": [
              "{1, 2, 3, 4, 5}"
            ]
          },
          "metadata": {},
          "execution_count": 51
        }
      ]
    },
    {
      "cell_type": "code",
      "source": [
        "#Write a code to find the intersection of two sets {1, 2, 3} and {2, 3, 4}\n",
        "set1={1,2,3}\n",
        "set2={2,3,4}\n",
        "set1.intersection(set2)"
      ],
      "metadata": {
        "colab": {
          "base_uri": "https://localhost:8080/"
        },
        "id": "liU_K4SYMzgO",
        "outputId": "80273165-daa7-44d4-c8ad-0e270903aaed"
      },
      "execution_count": null,
      "outputs": [
        {
          "output_type": "execute_result",
          "data": {
            "text/plain": [
              "{2, 3}"
            ]
          },
          "metadata": {},
          "execution_count": 52
        }
      ]
    },
    {
      "cell_type": "code",
      "source": [
        "#Write a code to create a dictionary with the keys \"name\", \"age\", and \"city\", and print it\n",
        "dictionary={\"name\":\"vanshika\",\"age\":\"22\",\"city\":\"raya mathura\"}\n",
        "print(dictionary)"
      ],
      "metadata": {
        "colab": {
          "base_uri": "https://localhost:8080/"
        },
        "id": "1GHPn27qMzdZ",
        "outputId": "8b45606e-efe9-40f5-afc7-f2b49ad3b22f"
      },
      "execution_count": null,
      "outputs": [
        {
          "output_type": "stream",
          "name": "stdout",
          "text": [
            "{'name': 'vanshika', 'age': '22', 'city': 'raya mathura'}\n"
          ]
        }
      ]
    },
    {
      "cell_type": "code",
      "source": [
        "#Write a code to add a new key-value pair \"country\": \"USA\" to the dictionary {'name': 'John', 'age': 25}\n",
        "dict={\"name\":\"john\",\"age\":25}\n",
        "dict[\"country\"]=\"USA\"\n",
        "print(dict)"
      ],
      "metadata": {
        "colab": {
          "base_uri": "https://localhost:8080/"
        },
        "id": "HtqXFGyBMzac",
        "outputId": "0887572d-58cb-4ef9-ffbb-8e2c544dcf76"
      },
      "execution_count": null,
      "outputs": [
        {
          "output_type": "stream",
          "name": "stdout",
          "text": [
            "{'name': 'john', 'age': 25, 'country': 'USA'}\n"
          ]
        }
      ]
    },
    {
      "cell_type": "code",
      "source": [
        "#Write a code to access the value associated with the key \"name\" in the dictionary {'name': 'Alice', 'age': 30}\n",
        "info={\"name\":\"alice\",\"age\":30}\n",
        "info.get(\"name\")"
      ],
      "metadata": {
        "colab": {
          "base_uri": "https://localhost:8080/",
          "height": 35
        },
        "id": "k8oobd28MzXk",
        "outputId": "32851e3e-ac9e-452c-9e99-62cd34bb3b83"
      },
      "execution_count": null,
      "outputs": [
        {
          "output_type": "execute_result",
          "data": {
            "text/plain": [
              "'alice'"
            ],
            "application/vnd.google.colaboratory.intrinsic+json": {
              "type": "string"
            }
          },
          "metadata": {},
          "execution_count": 65
        }
      ]
    },
    {
      "cell_type": "code",
      "source": [
        "#Write a code to remove the key \"age\" from the dictionary {'name': 'Bob', 'age': 22, 'city': 'New York'}\n",
        "information={'name': 'Bob', 'age': 22, 'city': 'New York'}      # we can use pop() as well to remove age:- information.pop(\"age\")\n",
        "del information['age']\n",
        "print(information)"
      ],
      "metadata": {
        "colab": {
          "base_uri": "https://localhost:8080/"
        },
        "id": "VNTVAMNvMzUr",
        "outputId": "b6b73e30-a15e-4017-dc20-c0282f069f51"
      },
      "execution_count": null,
      "outputs": [
        {
          "output_type": "stream",
          "name": "stdout",
          "text": [
            "{'name': 'Bob', 'city': 'New York'}\n"
          ]
        }
      ]
    },
    {
      "cell_type": "code",
      "source": [
        "#Write a code to check if the key \"city\" exists in the dictionary {'name': 'Alice', 'city': 'Paris'}\n",
        "dict= {'name': 'Alice', 'city': 'Paris'}\n",
        "if \"city\" in dict:\n",
        "    print(\"key 'city' exists\")\n",
        "else:\n",
        "    print(\"key 'city' not exists\")\n",
        "\n"
      ],
      "metadata": {
        "colab": {
          "base_uri": "https://localhost:8080/"
        },
        "id": "BE3FVXqZMzRr",
        "outputId": "27bef249-bf77-4eda-f923-e1977bcdb0ac"
      },
      "execution_count": null,
      "outputs": [
        {
          "output_type": "stream",
          "name": "stdout",
          "text": [
            "key 'city' exists\n"
          ]
        }
      ]
    },
    {
      "cell_type": "code",
      "source": [
        "#Write a code to create a list, a tuple, and a dictionary, and print them all.\n",
        "list=[1,2,3]\n",
        "tuple=(4,5,6)\n",
        "dict={7:\"vanshika\",8:\"ujjwal\",9:\"family\"}\n",
        "print(list)\n",
        "print(tuple)\n",
        "print(dict)"
      ],
      "metadata": {
        "colab": {
          "base_uri": "https://localhost:8080/"
        },
        "id": "RwCcmr4AMzNt",
        "outputId": "369f61eb-6769-4648-fe30-832d8c2f0cb4"
      },
      "execution_count": null,
      "outputs": [
        {
          "output_type": "stream",
          "name": "stdout",
          "text": [
            "[1, 2, 3]\n",
            "(4, 5, 6)\n",
            "{7: 'vanshika', 8: 'ujjwal', 9: 'family'}\n"
          ]
        }
      ]
    },
    {
      "cell_type": "code",
      "source": [
        "#Write a code to create a list of 5 random numbers between 1 and 100, sort it in ascending order, and print the result.(replaced)\n",
        "import random\n",
        "nums=[random.randint(1,100),random.randint(1,100),random.randint(1,100),random.randint(1,100),random.randint(1,100)]\n",
        "nums.sort()\n",
        "print(nums)\n",
        "\n"
      ],
      "metadata": {
        "colab": {
          "base_uri": "https://localhost:8080/"
        },
        "id": "jZrWcUi1ktrn",
        "outputId": "4d956857-bdcc-44f5-d805-9df289842cf4"
      },
      "execution_count": 6,
      "outputs": [
        {
          "output_type": "stream",
          "name": "stdout",
          "text": [
            "[14, 16, 51, 68, 70]\n"
          ]
        }
      ]
    },
    {
      "cell_type": "code",
      "source": [
        "#Write a code to create a list with strings and print the element at the third index\n",
        "list=[\"vanshika\",\"arya\" ,\"ujjwal\",\"jash\"]\n",
        "print(list[3])\n"
      ],
      "metadata": {
        "id": "neJnEPbWMzAn",
        "colab": {
          "base_uri": "https://localhost:8080/"
        },
        "outputId": "60e939c0-1895-4f33-a261-43ca3e205ecd"
      },
      "execution_count": 8,
      "outputs": [
        {
          "output_type": "stream",
          "name": "stdout",
          "text": [
            "jash\n"
          ]
        }
      ]
    },
    {
      "cell_type": "code",
      "source": [
        "#Write a code to combine two dictionaries into one and print the result\n",
        "dict1={1:\"one\",2:\"two\"}\n",
        "dict2={3:\"three\",4:\"four\"}\n",
        "dict1.update(dict2)\n",
        "print(dict1)"
      ],
      "metadata": {
        "id": "4-lN7mrvMy1a",
        "colab": {
          "base_uri": "https://localhost:8080/"
        },
        "outputId": "483c3db6-1a11-404b-918a-7d79d7e748b1"
      },
      "execution_count": null,
      "outputs": [
        {
          "output_type": "stream",
          "name": "stdout",
          "text": [
            "{1: 'one', 2: 'two', 3: 'three', 4: 'four'}\n"
          ]
        }
      ]
    },
    {
      "cell_type": "code",
      "source": [
        "#Write a code to convert a list of strings into a set\n",
        "list=[\"vanshika\",\"arya\",\"darshu\",\"ujjwal\"]\n",
        "set_new=set(list)\n",
        "print(set_new)\n"
      ],
      "metadata": {
        "id": "SL9LoQEORkKC",
        "colab": {
          "base_uri": "https://localhost:8080/"
        },
        "outputId": "c7a52822-317e-45e9-e30a-abdc6a7dbff4"
      },
      "execution_count": 9,
      "outputs": [
        {
          "output_type": "stream",
          "name": "stdout",
          "text": [
            "{'darshu', 'ujjwal', 'vanshika', 'arya'}\n"
          ]
        }
      ]
    }
  ]
}